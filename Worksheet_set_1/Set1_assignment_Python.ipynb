{
 "cells": [
  {
   "cell_type": "markdown",
   "id": "18f1526e",
   "metadata": {},
   "source": [
    "## Python"
   ]
  },
  {
   "cell_type": "markdown",
   "id": "f8cf8044",
   "metadata": {},
   "source": [
    " "
   ]
  },
  {
   "cell_type": "markdown",
   "id": "f5474298",
   "metadata": {},
   "source": [
    "#### Answer11"
   ]
  },
  {
   "cell_type": "code",
   "execution_count": 25,
   "id": "c4a3eca7",
   "metadata": {},
   "outputs": [
    {
     "name": "stdout",
     "output_type": "stream",
     "text": [
      "1124000727777607680000\n"
     ]
    }
   ],
   "source": [
    "num = 22\n",
    "result = 1\n",
    "if num >=1:\n",
    "    for i in range(1,(num+1)):\n",
    "        result *=i\n",
    "    print(result)\n",
    "else:\n",
    "    print(\"Enter a positive whole integer\")\n"
   ]
  },
  {
   "cell_type": "markdown",
   "id": "17950952",
   "metadata": {},
   "source": [
    " "
   ]
  },
  {
   "cell_type": "markdown",
   "id": "a90cb354",
   "metadata": {},
   "source": [
    "#### Answer12"
   ]
  },
  {
   "cell_type": "code",
   "execution_count": 59,
   "id": "071d7667",
   "metadata": {},
   "outputs": [
    {
     "name": "stdout",
     "output_type": "stream",
     "text": [
      "31 - It's a prime number\n"
     ]
    }
   ],
   "source": [
    "num2 = 31\n",
    "count = 0\n",
    "\n",
    "if num2 >2:\n",
    "    for i in range (1,num2):\n",
    "        if num2%i==0:\n",
    "            count+=1\n",
    "        else:\n",
    "            pass\n",
    "elif num2 ==2 or num2 ==1:\n",
    "    print(\"It's a composite number\")\n",
    "elif num2<=0:\n",
    "    print(\"Enter a positive whole integer\")\n",
    "    \n",
    "if count==1:\n",
    "    print(str(num2)+\" - It's a prime number\")\n",
    "elif count>1:\n",
    "    print(str(num2)+\" - It's a composite number\")\n"
   ]
  },
  {
   "cell_type": "markdown",
   "id": "83ce1d3e",
   "metadata": {},
   "source": [
    " "
   ]
  },
  {
   "cell_type": "markdown",
   "id": "96f05068",
   "metadata": {},
   "source": [
    "#### Answer13"
   ]
  },
  {
   "cell_type": "code",
   "execution_count": 82,
   "id": "169fd5bb",
   "metadata": {},
   "outputs": [
    {
     "name": "stdout",
     "output_type": "stream",
     "text": [
      "00100100 - It is a palindrome\n"
     ]
    }
   ],
   "source": [
    "word = \"00100100\"\n",
    "pass_fail = True\n",
    "j = len(word)\n",
    "for i in range(len(word)):\n",
    "    if word[i] == word[j-1]:\n",
    "        pass_fail = True\n",
    "        j-=1\n",
    "        pass\n",
    "    else:\n",
    "        pass_fail = False\n",
    "        break\n",
    "        \n",
    "if pass_fail:\n",
    "    print(word + \" - It is a palindrome\")\n",
    "else:\n",
    "    print(word+ \" - It is not a palindrome\")"
   ]
  },
  {
   "cell_type": "markdown",
   "id": "aecc4eb1",
   "metadata": {},
   "source": [
    " "
   ]
  },
  {
   "cell_type": "markdown",
   "id": "00669c95",
   "metadata": {},
   "source": [
    "#### Answer 14"
   ]
  },
  {
   "cell_type": "code",
   "execution_count": 98,
   "id": "55a26272",
   "metadata": {},
   "outputs": [
    {
     "name": "stdout",
     "output_type": "stream",
     "text": [
      "Enter the Input variable:\n",
      "Press 1 for base and height \n",
      "Press 2 for base and hypotenuse\n",
      "Press 3 for height and hypotenuse\n",
      "Which variables do you want to enter :- 3\n",
      "Enter hypotenuse length 5\n",
      "Enter height length 3\n",
      "The length of base is :- 4.0\n"
     ]
    }
   ],
   "source": [
    "import math\n",
    "print(\"Enter the Input variable:\")\n",
    "print(\"Press 1 for base and height \\nPress 2 for base and hypotenuse\\nPress 3 for height and hypotenuse\")\n",
    "option = int(input(\"Which variables do you want to enter :- \"))\n",
    "output = 0\n",
    "if option==1:\n",
    "    base = int(input(\"Enter base length \"))\n",
    "    height = int(input(\"Enter height length \"))\n",
    "    output = pow(base,2)+pow(height,2)\n",
    "    print(\"The length of hypotenuse is :- \"+ str(math.sqrt(output)))\n",
    "elif option==2:\n",
    "    base = int(input(\"Enter base length \"))\n",
    "    hypotenuse = int(input(\"Enter hypotenuse length \"))\n",
    "    output = pow(hypotenuse,2)-pow(base,2)\n",
    "    print(\"The length of height is :- \"+ str(math.sqrt(output)))\n",
    "elif option==3:\n",
    "    hypotenuse = int(input(\"Enter hypotenuse length \"))\n",
    "    height = int(input(\"Enter height length \"))\n",
    "    output = pow(hypotenuse,2)-pow(height,2)\n",
    "    print(\"The length of base is :- \"+ str(math.sqrt(output)))\n",
    "else:\n",
    "    print(\"Enter a correct option\")"
   ]
  },
  {
   "cell_type": "markdown",
   "id": "f286f89b",
   "metadata": {},
   "source": [
    " "
   ]
  },
  {
   "cell_type": "markdown",
   "id": "fe75bbb6",
   "metadata": {},
   "source": [
    "#### Answer15"
   ]
  },
  {
   "cell_type": "code",
   "execution_count": 101,
   "id": "cefa3366",
   "metadata": {},
   "outputs": [
    {
     "data": {
      "text/plain": [
       "{'a': 1,\n",
       " 's': 2,\n",
       " 'i': 1,\n",
       " 'g': 1,\n",
       " 'n': 3,\n",
       " 'm': 1,\n",
       " 'e': 1,\n",
       " 't': 2,\n",
       " ' ': 2,\n",
       " 'o': 2,\n",
       " 'f': 1,\n",
       " 'p': 1,\n",
       " 'y': 1,\n",
       " 'h': 1}"
      ]
     },
     "execution_count": 101,
     "metadata": {},
     "output_type": "execute_result"
    }
   ],
   "source": [
    "word2= \"assignment of python\"\n",
    "\n",
    "frequency_word= {}\n",
    "for i in word2:\n",
    "    if i in frequency_word:\n",
    "        frequency_word[i]+=1\n",
    "    else:\n",
    "        frequency_word[i]=1\n",
    "\n",
    "frequency_word"
   ]
  },
  {
   "cell_type": "code",
   "execution_count": null,
   "id": "bace705d",
   "metadata": {},
   "outputs": [],
   "source": []
  },
  {
   "cell_type": "code",
   "execution_count": null,
   "id": "0bf6419d",
   "metadata": {},
   "outputs": [],
   "source": []
  },
  {
   "cell_type": "code",
   "execution_count": null,
   "id": "b0ea2991",
   "metadata": {},
   "outputs": [],
   "source": []
  },
  {
   "cell_type": "code",
   "execution_count": null,
   "id": "542b8047",
   "metadata": {},
   "outputs": [],
   "source": []
  },
  {
   "cell_type": "code",
   "execution_count": null,
   "id": "d27ad555",
   "metadata": {},
   "outputs": [],
   "source": []
  },
  {
   "cell_type": "code",
   "execution_count": null,
   "id": "90df9f75",
   "metadata": {},
   "outputs": [],
   "source": []
  },
  {
   "cell_type": "code",
   "execution_count": null,
   "id": "b938f6cd",
   "metadata": {},
   "outputs": [],
   "source": []
  },
  {
   "cell_type": "code",
   "execution_count": null,
   "id": "e3c7ec15",
   "metadata": {},
   "outputs": [],
   "source": []
  },
  {
   "cell_type": "code",
   "execution_count": null,
   "id": "05d1ab20",
   "metadata": {},
   "outputs": [],
   "source": []
  },
  {
   "cell_type": "code",
   "execution_count": null,
   "id": "c1151fd1",
   "metadata": {},
   "outputs": [],
   "source": []
  },
  {
   "cell_type": "code",
   "execution_count": null,
   "id": "7c622ca8",
   "metadata": {},
   "outputs": [],
   "source": []
  },
  {
   "cell_type": "code",
   "execution_count": null,
   "id": "f3a1adbb",
   "metadata": {},
   "outputs": [],
   "source": []
  },
  {
   "cell_type": "code",
   "execution_count": null,
   "id": "6fec2fd7",
   "metadata": {},
   "outputs": [],
   "source": []
  },
  {
   "cell_type": "code",
   "execution_count": null,
   "id": "8cbef034",
   "metadata": {},
   "outputs": [],
   "source": []
  },
  {
   "cell_type": "code",
   "execution_count": null,
   "id": "b49431fc",
   "metadata": {},
   "outputs": [],
   "source": []
  },
  {
   "cell_type": "code",
   "execution_count": null,
   "id": "86476858",
   "metadata": {},
   "outputs": [],
   "source": []
  },
  {
   "cell_type": "code",
   "execution_count": null,
   "id": "54838c6e",
   "metadata": {},
   "outputs": [],
   "source": []
  },
  {
   "cell_type": "code",
   "execution_count": null,
   "id": "3a8d654a",
   "metadata": {},
   "outputs": [],
   "source": []
  },
  {
   "cell_type": "code",
   "execution_count": null,
   "id": "4abcb4f7",
   "metadata": {},
   "outputs": [],
   "source": []
  },
  {
   "cell_type": "code",
   "execution_count": null,
   "id": "e9b29756",
   "metadata": {},
   "outputs": [],
   "source": []
  },
  {
   "cell_type": "code",
   "execution_count": null,
   "id": "4d42476d",
   "metadata": {},
   "outputs": [],
   "source": []
  },
  {
   "cell_type": "code",
   "execution_count": null,
   "id": "95ec3b8c",
   "metadata": {},
   "outputs": [],
   "source": []
  },
  {
   "cell_type": "code",
   "execution_count": null,
   "id": "46efdac4",
   "metadata": {},
   "outputs": [],
   "source": []
  },
  {
   "cell_type": "code",
   "execution_count": null,
   "id": "2180aed4",
   "metadata": {},
   "outputs": [],
   "source": []
  },
  {
   "cell_type": "code",
   "execution_count": null,
   "id": "3f1ccec9",
   "metadata": {},
   "outputs": [],
   "source": []
  }
 ],
 "metadata": {
  "kernelspec": {
   "display_name": "Python 3 (ipykernel)",
   "language": "python",
   "name": "python3"
  },
  "language_info": {
   "codemirror_mode": {
    "name": "ipython",
    "version": 3
   },
   "file_extension": ".py",
   "mimetype": "text/x-python",
   "name": "python",
   "nbconvert_exporter": "python",
   "pygments_lexer": "ipython3",
   "version": "3.10.9"
  }
 },
 "nbformat": 4,
 "nbformat_minor": 5
}
