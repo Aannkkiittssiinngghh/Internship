{
 "cells": [
  {
   "cell_type": "code",
   "execution_count": 1,
   "id": "825256bd",
   "metadata": {},
   "outputs": [],
   "source": [
    "import re"
   ]
  },
  {
   "cell_type": "markdown",
   "id": "623fd236",
   "metadata": {},
   "source": [
    "##### Question 1- Write a Python program to replace all occurrences of a space, comma, or dot with a colon.\n",
    "\n",
    "\n",
    "##### Sample Text- 'Python Exercises, PHP exercises.'\n",
    "\n",
    "\n",
    "##### Expected Output: Python:Exercises::PHP:exercises:"
   ]
  },
  {
   "cell_type": "code",
   "execution_count": 7,
   "id": "4505cd81",
   "metadata": {},
   "outputs": [
    {
     "name": "stdout",
     "output_type": "stream",
     "text": [
      "Python:Exercises::PHP:exercises:\n"
     ]
    }
   ],
   "source": [
    "Sample_Text ='Python Exercises, PHP exercises.'\n",
    "Output = re.sub(r\"[\\s,\\.]\",\":\",Sample_Text)\n",
    "print(Output)"
   ]
  },
  {
   "cell_type": "markdown",
   "id": "dc56bb30",
   "metadata": {},
   "source": [
    " "
   ]
  },
  {
   "cell_type": "markdown",
   "id": "2d567367",
   "metadata": {},
   "source": [
    " "
   ]
  },
  {
   "cell_type": "markdown",
   "id": "28033cb7",
   "metadata": {},
   "source": [
    "##### Question 2-  Write a Python program to find all words starting with 'a' or 'e' in a given string."
   ]
  },
  {
   "cell_type": "code",
   "execution_count": 36,
   "id": "eb337cf7",
   "metadata": {},
   "outputs": [
    {
     "data": {
      "text/plain": [
       "['anki', 'arpita', 'estimate', 'Abhishek']"
      ]
     },
     "execution_count": 36,
     "metadata": {},
     "output_type": "execute_result"
    }
   ],
   "source": [
    "l2 = \"anki arpita innova estimate hero not hero Abhishek\"\n",
    "\n",
    "re.findall(r\"\\b[ae]\\w+\", l2, flags=re.I)"
   ]
  },
  {
   "cell_type": "markdown",
   "id": "76c792f2",
   "metadata": {},
   "source": [
    " "
   ]
  },
  {
   "cell_type": "markdown",
   "id": "81131691",
   "metadata": {},
   "source": [
    " "
   ]
  },
  {
   "cell_type": "markdown",
   "id": "1c6b8123",
   "metadata": {},
   "source": [
    "##### Question 3- Create a function in python to find all words that are at least 4 characters long in a string. The use of the re.compile() method is mandatory."
   ]
  },
  {
   "cell_type": "code",
   "execution_count": 46,
   "id": "27e7000a",
   "metadata": {},
   "outputs": [
    {
     "data": {
      "text/plain": [
       "['anki', 'hero', 'hero']"
      ]
     },
     "execution_count": 46,
     "metadata": {},
     "output_type": "execute_result"
    }
   ],
   "source": [
    "pattern = r\"\\b[\\w]{4}\\b\"\n",
    "obj = re.compile(pattern)\n",
    "l2 = \"anki arpita innova estimate hero not hero Abhishek\"\n",
    "obj.findall(l2)"
   ]
  },
  {
   "cell_type": "markdown",
   "id": "c02ca74b",
   "metadata": {},
   "source": [
    " "
   ]
  },
  {
   "cell_type": "markdown",
   "id": "61e76253",
   "metadata": {},
   "source": [
    " "
   ]
  },
  {
   "cell_type": "markdown",
   "id": "a70682d7",
   "metadata": {},
   "source": [
    "##### Question 4- Create a function in python to find all three, four, and five character words in a string. The use of the re.compile() method is mandatory."
   ]
  },
  {
   "cell_type": "code",
   "execution_count": 58,
   "id": "79232097",
   "metadata": {},
   "outputs": [
    {
     "data": {
      "text/plain": [
       "['anki', 'hero', 'not', 'hero', 'abcde', 'abc', 'aaaa']"
      ]
     },
     "execution_count": 58,
     "metadata": {},
     "output_type": "execute_result"
    }
   ],
   "source": [
    "pattern = r\"\\b[\\w]{3,5}\\b\"\n",
    "obj = re.compile(pattern)\n",
    "l2 = \"anki arpita innova estimate hero not hero Abhishek abcde abc aaaa\"\n",
    "obj.findall(l2)"
   ]
  },
  {
   "cell_type": "markdown",
   "id": "dee8c169",
   "metadata": {},
   "source": [
    " "
   ]
  },
  {
   "cell_type": "markdown",
   "id": "120b61bb",
   "metadata": {},
   "source": [
    " "
   ]
  },
  {
   "cell_type": "markdown",
   "id": "263df1be",
   "metadata": {},
   "source": [
    "##### Question 5- Create a function in Python to remove the parenthesis in a list of strings. The use of the re.compile() method is mandatory.\n",
    "\n",
    "\n",
    "Sample Text: [\"example (.com)\", \"hr@fliprobo (.com)\", \"github (.com)\", \"Hello (Data Science World)\", \"Data (Scientist)\"]\n",
    "\n",
    "\n",
    "Expected Output:\n",
    "\n",
    "example.com\n",
    "\n",
    "hr@fliprobo.com\n",
    "\n",
    "github.com\n",
    "\n",
    "Hello Data Science World\n",
    "\n",
    "Data Scientist"
   ]
  },
  {
   "cell_type": "code",
   "execution_count": 106,
   "id": "fc7b4c24",
   "metadata": {},
   "outputs": [
    {
     "name": "stdout",
     "output_type": "stream",
     "text": [
      "asdfdsafsd.com\n",
      "hellodata science\n"
     ]
    }
   ],
   "source": [
    "Sample_Text = [\"example (.com)\", \"hr@fliprobo (.com)\", \"github (.com)\", \"Hello (Data Science World)\", \"Data (Scientist)\"]\n",
    "\n",
    "pattern = r\"(\\s\\()|\\)\"\n",
    "obj = re.compile(pattern)\n",
    "s2 = r\"asdfdsafsd (.com)\"\n",
    "s3 = \"hello (data science)\"\n",
    "print(obj.sub(\"\",s2))\n",
    "print(obj.sub(\"\",s3))"
   ]
  },
  {
   "cell_type": "markdown",
   "id": "70cb439c",
   "metadata": {},
   "source": [
    " "
   ]
  },
  {
   "cell_type": "markdown",
   "id": "9c1af8ad",
   "metadata": {},
   "source": [
    " "
   ]
  },
  {
   "cell_type": "markdown",
   "id": "287aa8eb",
   "metadata": {},
   "source": [
    "##### Question 6- Write a python program to remove the parenthesis area from the text stored in the text file using Regular Expression.\n",
    "\n",
    "Sample Text: [\"example (.com)\", \"hr@fliprobo (.com)\", \"github (.com)\", \"Hello (Data Science World)\", \"Data (Scientist)\"]\n",
    "\n",
    "Expected Output: [\"example\", \"hr@fliprobo\", \"github\", \"Hello\", \"Data\"]\n",
    "\n",
    "Note- Store given sample text in the text file and then to remove the parenthesis area from the text.\n"
   ]
  },
  {
   "cell_type": "code",
   "execution_count": 149,
   "id": "7658f347",
   "metadata": {},
   "outputs": [
    {
     "name": "stdout",
     "output_type": "stream",
     "text": [
      "\"example (.com)\", \"hr@fliprobo (.com)\", \"github (.com)\", \"Hello (Data Science World)\", \"Data (Scientist)\"\n",
      "\n",
      "\n",
      "\n",
      "\"example\", \"hr@fliprobo\", \"github\", \"Hello\", \"Data\"\n"
     ]
    }
   ],
   "source": [
    "with open(\"question6_textFile.txt\", \"r\") as file:\n",
    "    lines = file.read()\n",
    "\n",
    "# pattern = r\"\\s\\w+|\\s\\W+|\\)\"   \n",
    "pattern = r\"\\s?\\(.*?\\)\"\n",
    "new_text = re.sub(pattern,\"\",lines)\n",
    "print(lines+\"\\n\\n\\n\")\n",
    "print(new_text)"
   ]
  },
  {
   "cell_type": "markdown",
   "id": "bc45a127",
   "metadata": {},
   "source": [
    " "
   ]
  },
  {
   "cell_type": "markdown",
   "id": "f0ce1981",
   "metadata": {},
   "source": [
    " "
   ]
  },
  {
   "cell_type": "markdown",
   "id": "cba11cf6",
   "metadata": {},
   "source": [
    "##### Question 7- Write a regular expression in Python to split a string into uppercase letters.\n",
    "\n",
    "Sample text: “ImportanceOfRegularExpressionsInPython”\n",
    "\n",
    "Expected Output: [‘Importance’, ‘Of’, ‘Regular’, ‘Expression’, ‘In’, ‘Python’]\n"
   ]
  },
  {
   "cell_type": "code",
   "execution_count": 178,
   "id": "c263c3ff",
   "metadata": {},
   "outputs": [
    {
     "data": {
      "text/plain": [
       "['Importance', 'Of', 'Regular', 'Expressions', 'In', 'Python']"
      ]
     },
     "execution_count": 178,
     "metadata": {},
     "output_type": "execute_result"
    }
   ],
   "source": [
    "Sampletext = \"ImportanceOfRegularExpressionsInPython\"\n",
    "pattern = r\"(?<=[a-z])(?=[A-Z])\"\n",
    "re.split(pattern, Sampletext)"
   ]
  },
  {
   "cell_type": "markdown",
   "id": "7bd793c6",
   "metadata": {},
   "source": [
    " "
   ]
  },
  {
   "cell_type": "markdown",
   "id": "81d0b2ef",
   "metadata": {},
   "source": [
    " "
   ]
  },
  {
   "cell_type": "markdown",
   "id": "d7084d86",
   "metadata": {},
   "source": [
    "##### Question 8- Create a function in python to insert spaces between words starting with numbers.\n",
    "\n",
    "Sample Text: “RegularExpression1IsAn2ImportantTopic3InPython\"\n",
    "\n",
    "Expected Output: RegularExpression 1IsAn 2ImportantTopic 3InPython\n"
   ]
  },
  {
   "cell_type": "code",
   "execution_count": 174,
   "id": "ebec170e",
   "metadata": {},
   "outputs": [
    {
     "data": {
      "text/plain": [
       "['RegularExpression', '1IsAn', '2ImportantTopic', '3InPython']"
      ]
     },
     "execution_count": 174,
     "metadata": {},
     "output_type": "execute_result"
    }
   ],
   "source": [
    "Sample_text = \"RegularExpression1IsAn2ImportantTopic3InPython\"\n",
    "re.split(r\"(?=\\d+)\",Sample_text)"
   ]
  },
  {
   "cell_type": "markdown",
   "id": "d892a609",
   "metadata": {},
   "source": [
    " "
   ]
  },
  {
   "cell_type": "markdown",
   "id": "98ff5d98",
   "metadata": {},
   "source": [
    " "
   ]
  },
  {
   "cell_type": "markdown",
   "id": "75cc1659",
   "metadata": {},
   "source": [
    "##### Question 9- Create a function in python to insert spaces between words starting with capital letters or with numbers.\n",
    "\n",
    "Sample Text: “RegularExpression1IsAn2ImportantTopic3InPython\"\n",
    "\n",
    "Expected Output:  RegularExpression 1 IsAn 2 ImportantTopic 3 InPython\n"
   ]
  },
  {
   "cell_type": "code",
   "execution_count": 255,
   "id": "d6b5617b",
   "metadata": {},
   "outputs": [
    {
     "data": {
      "text/plain": [
       "' Regular Expression 1 Is An 2 Important Topic 3 In Python'"
      ]
     },
     "execution_count": 255,
     "metadata": {},
     "output_type": "execute_result"
    }
   ],
   "source": [
    "Sample_Text = \"RegularExpression1IsAn2ImportantTopic3InPython\"\n",
    "pattern = r\"(?=\\d)|(?=[A-Z])\"\n",
    "re.sub(pattern,\" \",Sample_Text)"
   ]
  },
  {
   "cell_type": "markdown",
   "id": "de9362b2",
   "metadata": {},
   "source": [
    " "
   ]
  },
  {
   "cell_type": "markdown",
   "id": "57c3cf5b",
   "metadata": {},
   "source": [
    " "
   ]
  },
  {
   "cell_type": "markdown",
   "id": "bc31740a",
   "metadata": {},
   "source": [
    "##### Question 10- Write a python program to extract email address from the text stored in the text file using Regular Expression.\n",
    "\n",
    "Sample Text- Hello my name is Data Science and my email address is xyz@domain.com and alternate email address is xyz.abc@sdomain.domain.com. \n",
    "\n",
    "Please contact us at hr@fliprobo.com for further information. \n",
    "\n",
    "\n",
    "Expected Output: \n",
    "['xyz@domain.com', 'xyz.abc@sdomain.domain.com']\n",
    "\n",
    "['hr@fliprobo.com']\n",
    "\n",
    "Note- Store given sample text in the text file and then extract email addresses.\n"
   ]
  },
  {
   "cell_type": "code",
   "execution_count": 221,
   "id": "bd526d05",
   "metadata": {},
   "outputs": [
    {
     "data": {
      "text/plain": [
       "['xyz@domain.com', 'xyz.abc@sdomain.domain.com', 'hr@fliprobo.com']"
      ]
     },
     "execution_count": 221,
     "metadata": {},
     "output_type": "execute_result"
    }
   ],
   "source": [
    "with open(\"Question10_textFile.txt\", \"r\") as file:\n",
    "    lines = file.read()\n",
    "    \n",
    "pattern = r\"[\\w\\.?]+@[\\w\\.?]+com\"\n",
    "re.findall(pattern,lines)"
   ]
  },
  {
   "cell_type": "markdown",
   "id": "f1d4e853",
   "metadata": {},
   "source": [
    " "
   ]
  },
  {
   "cell_type": "markdown",
   "id": "93e9b954",
   "metadata": {},
   "source": [
    " "
   ]
  },
  {
   "cell_type": "markdown",
   "id": "6d35b287",
   "metadata": {},
   "source": [
    "##### Question 11- Write a Python program to match a string that contains only upper and lowercase letters, numbers, and underscores."
   ]
  },
  {
   "cell_type": "code",
   "execution_count": 231,
   "id": "657a55c8",
   "metadata": {},
   "outputs": [
    {
     "name": "stdout",
     "output_type": "stream",
     "text": [
      "<re.Match object; span=(0, 8), match='Adsfadsf'>\n",
      "<re.Match object; span=(0, 18), match='SAFK213123__d14213'>\n",
      "None\n",
      "None\n"
     ]
    }
   ],
   "source": [
    "string1 = [\"Adsfadsf\",  \"SAFK213123__d14213\", \"google.com\", \"invalid@google\"]\n",
    "for i in string1:\n",
    "    list1 = re.match(r'[A-Za-z0-9_]*$',i)\n",
    "    print(list1)\n",
    "\n",
    "#     none means we have character other than lowercase uppercase number or underscored"
   ]
  },
  {
   "cell_type": "markdown",
   "id": "3a6ec799",
   "metadata": {},
   "source": [
    " "
   ]
  },
  {
   "cell_type": "markdown",
   "id": "2cf26d88",
   "metadata": {},
   "source": [
    " "
   ]
  },
  {
   "cell_type": "markdown",
   "id": "de8cac1e",
   "metadata": {},
   "source": [
    "##### Question 12- Write a Python program where a string will start with a specific number. "
   ]
  },
  {
   "cell_type": "code",
   "execution_count": 232,
   "id": "a80cdae1",
   "metadata": {},
   "outputs": [
    {
     "name": "stdout",
     "output_type": "stream",
     "text": [
      "<re.Match object; span=(0, 1), match='1'>\n",
      "None\n",
      "None\n",
      "None\n",
      "<re.Match object; span=(0, 1), match='1'>\n"
     ]
    }
   ],
   "source": [
    "string1 = [\"12dfsdas\",  \"21dadsf\", \"33fdsaf\", \"a124sdfas\",\"1234adf\"]\n",
    "for i in string1:\n",
    "    output = re.search(r'^1',i)\n",
    "    print(output)\n",
    "    \n",
    "# here we have choosen 1 as a \"specific character\""
   ]
  },
  {
   "cell_type": "markdown",
   "id": "dfb43975",
   "metadata": {},
   "source": [
    " "
   ]
  },
  {
   "cell_type": "markdown",
   "id": "484f99ca",
   "metadata": {},
   "source": [
    " "
   ]
  },
  {
   "cell_type": "markdown",
   "id": "9a10c060",
   "metadata": {},
   "source": [
    "##### Question 13- Write a Python program to remove leading zeros from an IP address"
   ]
  },
  {
   "cell_type": "code",
   "execution_count": 251,
   "id": "b32b9b8a",
   "metadata": {},
   "outputs": [
    {
     "data": {
      "text/plain": [
       "'2001:0db8:0:0:0:0:0:1'"
      ]
     },
     "execution_count": 251,
     "metadata": {},
     "output_type": "execute_result"
    }
   ],
   "source": [
    "ip_address = \"2001:0db8:0000:0000:0000:0000:0000:0001\"\n",
    "pattern = r'(?<=[:])0+(?=\\d)'\n",
    "re.sub(pattern, \"\",ip_address)"
   ]
  },
  {
   "cell_type": "markdown",
   "id": "8b572d16",
   "metadata": {},
   "source": [
    " "
   ]
  },
  {
   "cell_type": "markdown",
   "id": "d199d4b1",
   "metadata": {},
   "source": [
    " "
   ]
  },
  {
   "cell_type": "markdown",
   "id": "b98888dd",
   "metadata": {},
   "source": [
    "##### Question 14- Write a regular expression in python to match a date string in the form of Month name followed by day number and year stored in a text file.\n",
    "\n",
    "Sample text :  ' On August 15th 1947 that India was declared independent from British colonialism, and the reins of control were handed over to the leaders of the Country’.\n",
    "\n",
    "Expected Output- August 15th 1947\n",
    "\n",
    "Note- Store given sample text in the text file and then extract the date string asked format.\n"
   ]
  },
  {
   "cell_type": "code",
   "execution_count": 289,
   "id": "6b460ae1",
   "metadata": {},
   "outputs": [
    {
     "data": {
      "text/plain": [
       "['August 15th 1947']"
      ]
     },
     "execution_count": 289,
     "metadata": {},
     "output_type": "execute_result"
    }
   ],
   "source": [
    "with open(\"Question14_textFile.txt\", \"r\") as file:\n",
    "    lines = file.read()\n",
    "\n",
    "pattern = r\"[\\w]+\\s[\\d]{2}[a-zA-Z]{2} [\\d]{4}\"\n",
    "# pattern = r\"August\"\n",
    "re.findall(pattern,lines)\n"
   ]
  },
  {
   "cell_type": "markdown",
   "id": "76a6ca77",
   "metadata": {},
   "source": [
    " "
   ]
  },
  {
   "cell_type": "markdown",
   "id": "a6215261",
   "metadata": {},
   "source": [
    " "
   ]
  },
  {
   "cell_type": "markdown",
   "id": "4dd44a7c",
   "metadata": {},
   "source": [
    "##### Question 15- Write a Python program to search some literals strings in a string. \n",
    "\n",
    "Sample text : 'The quick brown fox jumps over the lazy dog.'\n",
    "\n",
    "Searched words : 'fox', 'dog', 'horse'\n"
   ]
  },
  {
   "cell_type": "code",
   "execution_count": 291,
   "id": "9c0d3fc9",
   "metadata": {},
   "outputs": [
    {
     "name": "stdout",
     "output_type": "stream",
     "text": [
      "<re.Match object; span=(16, 19), match='fox'>\n"
     ]
    }
   ],
   "source": [
    "Sampletext = 'The quick brown fox jumps over the lazy dog.'\n",
    "pattern = 'fox'\n",
    "print(re.search(pattern,Sampletext))"
   ]
  },
  {
   "cell_type": "markdown",
   "id": "d9617fa3",
   "metadata": {},
   "source": [
    " "
   ]
  },
  {
   "cell_type": "markdown",
   "id": "2fff69f1",
   "metadata": {},
   "source": [
    " "
   ]
  },
  {
   "cell_type": "markdown",
   "id": "9215c4b0",
   "metadata": {},
   "source": [
    "##### Question 16- Write a Python program to search a literals string in a string and also find the location within the original string where the pattern occurs\n",
    "\n",
    "Sample text : 'The quick brown fox jumps over the lazy dog.'\n",
    "\n",
    "Searched words : 'fox'\n"
   ]
  },
  {
   "cell_type": "code",
   "execution_count": 294,
   "id": "29de16e1",
   "metadata": {},
   "outputs": [
    {
     "data": {
      "text/plain": [
       "(16, 19)"
      ]
     },
     "execution_count": 294,
     "metadata": {},
     "output_type": "execute_result"
    }
   ],
   "source": [
    "Sampletext = 'The quick brown fox jumps over the lazy dog.'\n",
    "pattern = 'fox'\n",
    "output = re.search(pattern,Sampletext)\n",
    "output.span()"
   ]
  },
  {
   "cell_type": "markdown",
   "id": "840caacb",
   "metadata": {},
   "source": [
    " "
   ]
  },
  {
   "cell_type": "markdown",
   "id": "2b56dc5a",
   "metadata": {},
   "source": [
    " "
   ]
  },
  {
   "cell_type": "markdown",
   "id": "17264d29",
   "metadata": {},
   "source": [
    "##### Question 17- Write a Python program to find the substrings within a string.\n",
    "\n",
    "Sample text : 'Python exercises, PHP exercises, C# exercises'\n",
    "\n",
    "Pattern : 'exercises'."
   ]
  },
  {
   "cell_type": "code",
   "execution_count": 308,
   "id": "f35369fd",
   "metadata": {},
   "outputs": [
    {
     "name": "stdout",
     "output_type": "stream",
     "text": [
      "(7, 16)\n",
      "exercises\n",
      "\n",
      "\n",
      "(22, 31)\n",
      "exercises\n",
      "\n",
      "\n",
      "(36, 45)\n",
      "exercises\n",
      "\n",
      "\n"
     ]
    }
   ],
   "source": [
    "Sampletext='Python exercises, PHP exercises, C# exercises'\n",
    "Pattern='exercises'\n",
    "\n",
    "output = re.finditer(Pattern,Sampletext)\n",
    "for i in output:\n",
    "    print(i.span())\n",
    "    print(i.group())\n",
    "    print(\"\\n\")"
   ]
  },
  {
   "cell_type": "markdown",
   "id": "da5eebca",
   "metadata": {},
   "source": [
    " "
   ]
  },
  {
   "cell_type": "markdown",
   "id": "fa3e290c",
   "metadata": {},
   "source": [
    " "
   ]
  },
  {
   "cell_type": "markdown",
   "id": "a9ecdc4f",
   "metadata": {},
   "source": [
    "##### Question 18- Write a Python program to find the occurrence and position of the substrings within a string."
   ]
  },
  {
   "cell_type": "code",
   "execution_count": 310,
   "id": "1bc866f6",
   "metadata": {},
   "outputs": [
    {
     "name": "stdout",
     "output_type": "stream",
     "text": [
      "(7, 16)\n",
      "exercises\n",
      "\n",
      "\n",
      "(22, 31)\n",
      "exercises\n",
      "\n",
      "\n",
      "(36, 45)\n",
      "exercises\n",
      "\n",
      "\n",
      "total occurance =  3\n"
     ]
    }
   ],
   "source": [
    "Sampletext='Python exercises, PHP exercises, C# exercises'\n",
    "Pattern='exercises'\n",
    "\n",
    "j=0\n",
    "output = re.finditer(Pattern,Sampletext)\n",
    "for i in output:\n",
    "    j+=1\n",
    "    print(i.span())\n",
    "    print(i.group())\n",
    "    print(\"\\n\")\n",
    "\n",
    "print(\"total occurance = \",j)"
   ]
  },
  {
   "cell_type": "markdown",
   "id": "53f1b8d2",
   "metadata": {},
   "source": [
    " "
   ]
  },
  {
   "cell_type": "markdown",
   "id": "1d9da010",
   "metadata": {},
   "source": [
    " "
   ]
  },
  {
   "cell_type": "markdown",
   "id": "25195c30",
   "metadata": {},
   "source": [
    "##### Question 19- Write a Python program to convert a date of yyyy-mm-dd format to dd-mm-yyyy format."
   ]
  },
  {
   "cell_type": "code",
   "execution_count": 353,
   "id": "670851ab",
   "metadata": {},
   "outputs": [
    {
     "name": "stdout",
     "output_type": "stream",
     "text": [
      "('2002', '12', '22')\n",
      "22-12-2002\n"
     ]
    }
   ],
   "source": [
    "string_test = \"2002-12-22\"\n",
    "pattern = r\"(\\d{4})-(\\d{2})-(\\d{2})\"\n",
    "print(re.search(pattern, string_test).groups())\n",
    "year, mon, day = re.search(pattern, string_test).groups()\n",
    "new_date = day+\"-\"+mon+\"-\"+year\n",
    "print(new_date)"
   ]
  },
  {
   "cell_type": "markdown",
   "id": "aa8dc421",
   "metadata": {},
   "source": [
    " "
   ]
  },
  {
   "cell_type": "markdown",
   "id": "e7e3a0e6",
   "metadata": {},
   "source": [
    " "
   ]
  },
  {
   "cell_type": "markdown",
   "id": "2ae9bb83",
   "metadata": {},
   "source": [
    "##### Question 20- Create a function in python to find all decimal numbers with a precision of 1 or 2 in a string. The use of the re.compile() method is mandatory."
   ]
  },
  {
   "cell_type": "code",
   "execution_count": 367,
   "id": "d8306b01",
   "metadata": {},
   "outputs": [
    {
     "name": "stdout",
     "output_type": "stream",
     "text": [
      "134312.34\n",
      "423424.33\n",
      "4234435.6\n",
      "3456245.76\n",
      "353345.65\n"
     ]
    }
   ],
   "source": [
    "pattern = r\"[\\d]+\\.[\\d]{1,2}\"\n",
    "obj = re.compile(pattern)\n",
    "\n",
    "list1 = [\"134312.34\",\"423424.333\",\"4234435.6\",\"3456245.76\",\"353345.65746\"]\n",
    "for i in list1:\n",
    "    output = obj.search(i)\n",
    "    print(output.group())"
   ]
  },
  {
   "cell_type": "markdown",
   "id": "7c117725",
   "metadata": {},
   "source": [
    " "
   ]
  },
  {
   "cell_type": "markdown",
   "id": "3a94d701",
   "metadata": {},
   "source": [
    " "
   ]
  },
  {
   "cell_type": "markdown",
   "id": "c76f6541",
   "metadata": {},
   "source": [
    "##### Question 21- Write a Python program to separate and print the numbers and their position of a given string."
   ]
  },
  {
   "cell_type": "code",
   "execution_count": 381,
   "id": "1912bcb0",
   "metadata": {},
   "outputs": [
    {
     "name": "stdout",
     "output_type": "stream",
     "text": [
      "(17, 20)  >  324\n",
      "\n",
      "(33, 36)  >  235\n",
      "\n",
      "(43, 44)  >  3\n",
      "\n",
      "(45, 49)  >  4545\n",
      "\n",
      "(59, 61)  >  33\n",
      "\n"
     ]
    }
   ],
   "source": [
    "stringis = \"fasdf hsdaffadsf 324 dfsdhfjncxv 235 ffsad 3 4545 dsfsdfdas33\"\n",
    "pattern = r\"\\d+\"\n",
    "output = re.finditer(pattern, stringis)\n",
    "for i in output:\n",
    "    print(i.span(),\" > \", i.group())"
   ]
  },
  {
   "cell_type": "markdown",
   "id": "3304d3c2",
   "metadata": {},
   "source": [
    " "
   ]
  },
  {
   "cell_type": "markdown",
   "id": "7aa6b491",
   "metadata": {},
   "source": [
    " "
   ]
  },
  {
   "cell_type": "markdown",
   "id": "f58a6781",
   "metadata": {},
   "source": [
    "##### Question 22- Write a regular expression in python program to extract maximum/largest numeric value from a string.\n",
    "\n",
    "Sample Text:  'My marks in each semester are: 947, 896, 926, 524, 734, 950, 642'\n",
    "\n",
    "Expected Output: 950\n"
   ]
  },
  {
   "cell_type": "code",
   "execution_count": 393,
   "id": "1e67674a",
   "metadata": {},
   "outputs": [
    {
     "name": "stdout",
     "output_type": "stream",
     "text": [
      "947\n",
      "896\n",
      "926\n",
      "524\n",
      "734\n",
      "950\n",
      "642\n",
      "maximum value = 950\n",
      "minimum value = 524\n"
     ]
    }
   ],
   "source": [
    "SampleText = 'My marks in each semester are: 947, 896, 926, 524, 734, 950, 642'\n",
    "pattern = r\"\\d+\"\n",
    "output = re.finditer(pattern, SampleText)\n",
    "l1 = []\n",
    "for i in output:\n",
    "    print(i.group())\n",
    "    l1.append(i.group())\n",
    "\n",
    "print(\"maximum value = \"+max(l1))\n",
    "print(\"minimum value = \"+min(l1))"
   ]
  },
  {
   "cell_type": "markdown",
   "id": "b010c50a",
   "metadata": {},
   "source": [
    " "
   ]
  },
  {
   "cell_type": "markdown",
   "id": "1a3e5956",
   "metadata": {},
   "source": [
    " "
   ]
  },
  {
   "cell_type": "markdown",
   "id": "007450ee",
   "metadata": {},
   "source": [
    "##### Question 23- Create a function in python to insert spaces between words starting with capital letters.\n",
    "\n",
    "Sample Text: “RegularExpressionIsAnImportantTopicInPython\"\n",
    "\n",
    "Expected Output: Regular Expression Is An Important Topic In Python\n"
   ]
  },
  {
   "cell_type": "code",
   "execution_count": 403,
   "id": "5a98cf5d",
   "metadata": {},
   "outputs": [
    {
     "data": {
      "text/plain": [
       "' Regular Expression Is An Important Topic In Python'"
      ]
     },
     "execution_count": 403,
     "metadata": {},
     "output_type": "execute_result"
    }
   ],
   "source": [
    "Text = \"RegularExpressionIsAnImportantTopicInPython\"\n",
    "pattern = r\"(?=[A-Z])\"\n",
    "new_text = re.sub(pattern,\" \",Text)\n",
    "new_text"
   ]
  },
  {
   "cell_type": "markdown",
   "id": "6f71875a",
   "metadata": {},
   "source": [
    " "
   ]
  },
  {
   "cell_type": "markdown",
   "id": "926b60f7",
   "metadata": {},
   "source": [
    " "
   ]
  },
  {
   "cell_type": "markdown",
   "id": "d4fd91be",
   "metadata": {},
   "source": [
    "##### Question 24- Python regex to find sequences of one upper case letter followed by lower case letters"
   ]
  },
  {
   "cell_type": "code",
   "execution_count": 407,
   "id": "70a01b43",
   "metadata": {},
   "outputs": [
    {
     "data": {
      "text/plain": [
       "['Regular', 'Expression', 'Is', 'An', 'Important', 'Topic', 'In', 'Python']"
      ]
     },
     "execution_count": 407,
     "metadata": {},
     "output_type": "execute_result"
    }
   ],
   "source": [
    "Text = \"Regular Expression Is An Important Topic In Python dsfdsaf 23sdafasd\"\n",
    "pattern = r\"\\b[A-Z]+[a-z]+\"\n",
    "new_text = re.findall(pattern,Text)\n",
    "new_text"
   ]
  },
  {
   "cell_type": "markdown",
   "id": "b8536741",
   "metadata": {},
   "source": [
    " "
   ]
  },
  {
   "cell_type": "markdown",
   "id": "0d13c4ec",
   "metadata": {},
   "source": [
    " "
   ]
  },
  {
   "cell_type": "markdown",
   "id": "0376bc34",
   "metadata": {},
   "source": [
    "##### Question 25- Write a Python program to remove continuous duplicate words from Sentence using Regular Expression.\n",
    "\n",
    "Sample Text: \"Hello hello world world\"\n",
    "\n",
    "Expected Output: Hello hello world\n"
   ]
  },
  {
   "cell_type": "markdown",
   "id": "b4f9287b",
   "metadata": {},
   "source": [
    " "
   ]
  },
  {
   "cell_type": "markdown",
   "id": "7bc926d2",
   "metadata": {},
   "source": [
    " "
   ]
  },
  {
   "cell_type": "markdown",
   "id": "71afab46",
   "metadata": {},
   "source": [
    "##### Question 26-  Write a python program using RegEx to accept string ending with alphanumeric character."
   ]
  },
  {
   "cell_type": "code",
   "execution_count": 442,
   "id": "e99a50c8",
   "metadata": {},
   "outputs": [
    {
     "name": "stdout",
     "output_type": "stream",
     "text": [
      "['Hello123']\n",
      "[]\n",
      "['123456']\n",
      "[]\n",
      "['EndsWithAlphanumeric1']\n"
     ]
    }
   ],
   "source": [
    "Text=[\n",
    "    \"Hello123\",\n",
    "    \"abc_\",\n",
    "    \"123456\",\n",
    "    \"special!\",\n",
    "    \"EndsWithAlphanumeric1\"\n",
    "]\n",
    "pattern = r'^.*[A-Za-z0-9]$'\n",
    "for i in Text:\n",
    "    new_text = re.findall(pattern,i)\n",
    "    print(new_text)"
   ]
  },
  {
   "cell_type": "markdown",
   "id": "4c35dd36",
   "metadata": {},
   "source": [
    " "
   ]
  },
  {
   "cell_type": "markdown",
   "id": "d47ddb3e",
   "metadata": {},
   "source": [
    " "
   ]
  },
  {
   "cell_type": "markdown",
   "id": "ac6a68e4",
   "metadata": {},
   "source": [
    "##### Question 27-Write a python program using RegEx to extract the hashtags.\n",
    "\n",
    "Sample Text:  \"\"\"RT @kapil_kausik: #Doltiwal I mean #xyzabc is \"hurt\" by #Demonetization as the same has rendered USELESS <ed><U+00A0><U+00BD><ed><U+00B1><U+0089> \"acquired funds\" No wo\"\"\"\n",
    "    \n",
    "Expected Output: ['#Doltiwal', '#xyzabc', '#Demonetization']\n"
   ]
  },
  {
   "cell_type": "code",
   "execution_count": 447,
   "id": "17983c42",
   "metadata": {},
   "outputs": [
    {
     "data": {
      "text/plain": [
       "['#Doltiwal', '#xyzabc', '#Demonetization']"
      ]
     },
     "execution_count": 447,
     "metadata": {},
     "output_type": "execute_result"
    }
   ],
   "source": [
    "Text =  \"\"\"RT @kapil_kausik: #Doltiwal I mean #xyzabc is \"hurt\" by #Demonetization as the same has rendered USELESS <U+00A0><U+00BD><U+00B1><U+0089> \"acquired funds\" No wo\"\"\"\n",
    "pattern = r\"#[\\w]*\"\n",
    "new_text = re.findall(pattern,Text)\n",
    "new_text"
   ]
  },
  {
   "cell_type": "markdown",
   "id": "20353b31",
   "metadata": {},
   "source": [
    " "
   ]
  },
  {
   "cell_type": "markdown",
   "id": "8307db86",
   "metadata": {},
   "source": [
    " "
   ]
  },
  {
   "cell_type": "markdown",
   "id": "2c9f39e8",
   "metadata": {},
   "source": [
    "##### Question 28- Write a python program using RegEx to remove <U+..> like symbols\n",
    "\n",
    "Check the below sample text, there are strange symbols something of the sort <U+..> all over the place. You need to come up with a general Regex expression that will cover all such symbols.\n",
    "\n",
    "Sample Text: \"@Jags123456 Bharat band on 28??<ed><U+00A0><U+00BD><ed><U+00B8><U+0082>Those who  are protesting #demonetization  are all different party leaders\"\n",
    "    \n",
    "Expected Output: @Jags123456 Bharat band on 28??<ed><ed>Those who  are protesting #demonetization  are all different party leaders\n"
   ]
  },
  {
   "cell_type": "code",
   "execution_count": 452,
   "id": "36239af1",
   "metadata": {},
   "outputs": [
    {
     "data": {
      "text/plain": [
       "'@Jags123456 Bharat band on 28??Those who are protesting #demonetization are all different party leaders'"
      ]
     },
     "execution_count": 452,
     "metadata": {},
     "output_type": "execute_result"
    }
   ],
   "source": [
    "Text =  \"@Jags123456 Bharat band on 28??<U+00A0><U+00BD><U+00B8><U+0082>Those who are protesting #demonetization are all different party leaders\"\n",
    "pattern = r\"\\<.+\\>\"\n",
    "new_text = re.sub(pattern,\"\",Text)\n",
    "new_text"
   ]
  },
  {
   "cell_type": "markdown",
   "id": "7c9fe4d0",
   "metadata": {},
   "source": [
    " "
   ]
  },
  {
   "cell_type": "markdown",
   "id": "9b56ef79",
   "metadata": {},
   "source": [
    " "
   ]
  },
  {
   "cell_type": "markdown",
   "id": "ec455136",
   "metadata": {},
   "source": [
    "##### Question 29- Write a python program to extract dates from the text stored in the text file.\n",
    "\n",
    "Sample Text: Ron was born on 12-09-1992 and he was admitted to school 15-12-1999.\n",
    "\n",
    "Note- Store this sample text in the file and then extract dates.\n"
   ]
  },
  {
   "cell_type": "code",
   "execution_count": 460,
   "id": "b9846f3b",
   "metadata": {},
   "outputs": [
    {
     "name": "stdout",
     "output_type": "stream",
     "text": [
      "12-09-1992\n",
      "15-12-1999\n"
     ]
    }
   ],
   "source": [
    "with open(\"question29_textFilie.txt\", \"r\") as file:\n",
    "    lines = file.read()\n",
    "\n",
    "pattern = r\"(\\d){2}-(\\d){2}-(\\d){4}\"\n",
    "output = re.finditer(pattern,lines)\n",
    "\n",
    "for i in output:\n",
    "    print(i.group())"
   ]
  },
  {
   "cell_type": "markdown",
   "id": "c8445b12",
   "metadata": {},
   "source": [
    " "
   ]
  },
  {
   "cell_type": "markdown",
   "id": "68e960fb",
   "metadata": {},
   "source": [
    " "
   ]
  },
  {
   "cell_type": "markdown",
   "id": "56f6b5f3",
   "metadata": {},
   "source": [
    "##### Question 30- Create a function in python to remove all words from a string of length between 2 and 4.\n",
    "\n",
    "The use of the re.compile() method is mandatory.\n",
    "\n",
    "Sample Text: \"The following example creates an ArrayList with a capacity of 50 elements. 4 elements are then added to the ArrayList and the ArrayList is trimmed accordingly.\"\n",
    "\n",
    "Expected Output:  following example creates ArrayList a capacity elements. 4 elements added ArrayList ArrayList trimmed accordingly.\n"
   ]
  },
  {
   "cell_type": "code",
   "execution_count": 473,
   "id": "a50446f9",
   "metadata": {},
   "outputs": [
    {
     "data": {
      "text/plain": [
       "' following example creates  ArrayList  a capacity   elements. 4 elements   added   ArrayList   ArrayList  trimmed accordingly.'"
      ]
     },
     "execution_count": 473,
     "metadata": {},
     "output_type": "execute_result"
    }
   ],
   "source": [
    "pattern = r\"\\b\\w{2,4}\\b\"\n",
    "obj = re.compile(pattern)\n",
    "\n",
    "SampleText = \"The following example creates an ArrayList with a capacity of 50 elements. 4 elements are then added to the ArrayList and the ArrayList is trimmed accordingly.\"\n",
    "obj.sub(\"\",SampleText)"
   ]
  }
 ],
 "metadata": {
  "kernelspec": {
   "display_name": "Python 3 (ipykernel)",
   "language": "python",
   "name": "python3"
  },
  "language_info": {
   "codemirror_mode": {
    "name": "ipython",
    "version": 3
   },
   "file_extension": ".py",
   "mimetype": "text/x-python",
   "name": "python",
   "nbconvert_exporter": "python",
   "pygments_lexer": "ipython3",
   "version": "3.10.9"
  }
 },
 "nbformat": 4,
 "nbformat_minor": 5
}
