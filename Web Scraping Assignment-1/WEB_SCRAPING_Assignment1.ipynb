{
 "cells": [
  {
   "cell_type": "code",
   "execution_count": null,
   "id": "51298459",
   "metadata": {},
   "outputs": [],
   "source": [
    "from bs4 import BeautifulSoup\n",
    "import requests\n",
    "import pandas as pd"
   ]
  },
  {
   "cell_type": "markdown",
   "id": "5fcf0190",
   "metadata": {},
   "source": [
    " "
   ]
  },
  {
   "cell_type": "markdown",
   "id": "5f147174",
   "metadata": {},
   "source": [
    "  "
   ]
  },
  {
   "cell_type": "markdown",
   "id": "359df2b9",
   "metadata": {},
   "source": [
    "### Question1. Write a python program to display all the header tags from wikipedia.org and make data frame"
   ]
  },
  {
   "cell_type": "code",
   "execution_count": null,
   "id": "c659bca3",
   "metadata": {},
   "outputs": [],
   "source": [
    "page = requests.get('https://en.wikipedia.org/wiki/Main_Page')\n",
    "page"
   ]
  },
  {
   "cell_type": "code",
   "execution_count": null,
   "id": "ec8fb092",
   "metadata": {},
   "outputs": [],
   "source": [
    "soup = BeautifulSoup(page.content)"
   ]
  },
  {
   "cell_type": "code",
   "execution_count": null,
   "id": "c962114b",
   "metadata": {},
   "outputs": [],
   "source": [
    "# every head line i.e., inside header tag, their order is Header tag > span > class name = mw-headline"
   ]
  },
  {
   "cell_type": "code",
   "execution_count": null,
   "id": "2e3d9e26",
   "metadata": {},
   "outputs": [],
   "source": [
    "header = []"
   ]
  },
  {
   "cell_type": "code",
   "execution_count": null,
   "id": "4c32f1a0",
   "metadata": {},
   "outputs": [],
   "source": [
    "for i in soup.find_all('span',class_=\"mw-headline\"):\n",
    "    header.append(i.text)"
   ]
  },
  {
   "cell_type": "code",
   "execution_count": null,
   "id": "b4996a0b",
   "metadata": {},
   "outputs": [],
   "source": [
    "header"
   ]
  },
  {
   "cell_type": "code",
   "execution_count": null,
   "id": "ef94f625",
   "metadata": {},
   "outputs": [],
   "source": [
    "df = pd.DataFrame({\"Headers\":header})"
   ]
  },
  {
   "cell_type": "code",
   "execution_count": null,
   "id": "2d7f4e1d",
   "metadata": {},
   "outputs": [],
   "source": [
    "df"
   ]
  },
  {
   "cell_type": "markdown",
   "id": "17ca4f27",
   "metadata": {},
   "source": [
    " "
   ]
  },
  {
   "cell_type": "markdown",
   "id": "82b8566a",
   "metadata": {},
   "source": [
    " "
   ]
  },
  {
   "cell_type": "markdown",
   "id": "e6ad7b82",
   "metadata": {},
   "source": [
    "### Question2. Write a python program to scrape cricket rankings from icc-cricket.com. You have to scrape and make data frame\n",
    "\n",
    "a) Top 10 ODI teams in men’s cricket along with the records for matches, points and rating.\n",
    "\n",
    "b) Top 10 ODI Batsmen along with the records of their team andrating.\n",
    "\n",
    "c) Top 10 ODI bowlers along with the records of their team andrating."
   ]
  },
  {
   "cell_type": "code",
   "execution_count": null,
   "id": "7933e69d",
   "metadata": {},
   "outputs": [],
   "source": [
    "# The top 10 ODI teams in men page> https://www.icc-cricket.com/rankings/mens/team-rankings/odi\n",
    "page = requests.get('https://www.icc-cricket.com/rankings/mens/team-rankings/odi')\n",
    "page"
   ]
  },
  {
   "cell_type": "code",
   "execution_count": null,
   "id": "1478fba9",
   "metadata": {},
   "outputs": [],
   "source": [
    "soup = BeautifulSoup(page.content)"
   ]
  },
  {
   "cell_type": "code",
   "execution_count": null,
   "id": "da3e9061",
   "metadata": {},
   "outputs": [],
   "source": [
    "# Span > u-hide-phablet\n",
    "Teams = []"
   ]
  },
  {
   "cell_type": "code",
   "execution_count": null,
   "id": "55e5c5d0",
   "metadata": {},
   "outputs": [],
   "source": [
    "for i in soup.find_all('span', class_=\"u-hide-phablet\"):\n",
    "    Teams.append(i.text)\n",
    "Teams"
   ]
  },
  {
   "cell_type": "code",
   "execution_count": null,
   "id": "6fa47f30",
   "metadata": {},
   "outputs": [],
   "source": [
    "Matches = []\n",
    "Matches_Points = []"
   ]
  },
  {
   "cell_type": "code",
   "execution_count": null,
   "id": "fa366802",
   "metadata": {},
   "outputs": [],
   "source": [
    "first_team_matches = soup.find('td', class_=\"rankings-block__banner--matches\")\n",
    "Matches.append(first_team_matches.text)\n",
    "\n",
    "for i in soup.find_all('td', class_=\"table-body__cell u-center-text\"):\n",
    "    Matches_Points.append(i.text)\n",
    "Matches_Points\n",
    "for i in range(0,len(Matches_Points),2):\n",
    "    Matches.append(Matches_Points[i])\n",
    "#     print(Matches_Points[i])\n",
    "Matches"
   ]
  },
  {
   "cell_type": "code",
   "execution_count": null,
   "id": "abcddcf7",
   "metadata": {},
   "outputs": [],
   "source": [
    "Points = []"
   ]
  },
  {
   "cell_type": "code",
   "execution_count": null,
   "id": "6bbc6c9a",
   "metadata": {},
   "outputs": [],
   "source": [
    "first_team_points = soup.find('td', class_=\"rankings-block__banner--points\")\n",
    "Points.append(first_team_points.text)\n",
    "\n",
    "for i in range(1,len(Matches_Points),2):\n",
    "    Points.append(Matches_Points[i])\n",
    "#     print(Matches_Points[i])\n",
    "Points"
   ]
  },
  {
   "cell_type": "code",
   "execution_count": null,
   "id": "7c448586",
   "metadata": {},
   "outputs": [],
   "source": [
    "Rating = []"
   ]
  },
  {
   "cell_type": "code",
   "execution_count": null,
   "id": "f306b09f",
   "metadata": {},
   "outputs": [],
   "source": [
    "first_team_rating = soup.find('td', class_=\"rankings-block__banner--rating u-text-right\")\n",
    "first_team_rating_text = first_team_rating.text\n",
    "first_team_rating_text = first_team_rating_text.replace(\"\\n\",\"\")\n",
    "first_team_rating_text = first_team_rating_text.replace(\" \",\"\")\n",
    "first_team_rating_text\n",
    "Rating.append(first_team_rating_text)\n",
    "\n",
    "for i in soup.find_all('td', class_=\"table-body__cell u-text-right rating\"):\n",
    "    Rating.append(i.text)\n",
    "Rating"
   ]
  },
  {
   "cell_type": "code",
   "execution_count": null,
   "id": "a0249361",
   "metadata": {},
   "outputs": [],
   "source": [
    "df = pd.DataFrame({\"Team_Name\":Teams,\"Matches\":Matches,\"Points\":Points,\"Ratings\":Rating})\n",
    "df"
   ]
  },
  {
   "cell_type": "code",
   "execution_count": null,
   "id": "31483f55",
   "metadata": {},
   "outputs": [],
   "source": [
    "df = df.head(10)\n",
    "df"
   ]
  },
  {
   "cell_type": "code",
   "execution_count": null,
   "id": "60a4ff35",
   "metadata": {},
   "outputs": [],
   "source": [
    "# For the second part of the question 3 it is not mentioned if the top10 ODI batsmens should be male or female\n",
    "# So considering it can be both male or female\n",
    "# We will scrape both male and female > sort by order of ranking > save the top 10"
   ]
  },
  {
   "cell_type": "code",
   "execution_count": null,
   "id": "de2d68af",
   "metadata": {},
   "outputs": [],
   "source": [
    "# Scraping Mens data\n",
    "# https://www.icc-cricket.com/rankings/mens/player-rankings/odi/batting"
   ]
  },
  {
   "cell_type": "code",
   "execution_count": null,
   "id": "57b51b5c",
   "metadata": {},
   "outputs": [],
   "source": [
    "page = requests.get(\"https://www.icc-cricket.com/rankings/mens/player-rankings/odi/batting\")\n",
    "page"
   ]
  },
  {
   "cell_type": "code",
   "execution_count": null,
   "id": "a7a5fc3e",
   "metadata": {},
   "outputs": [],
   "source": [
    "soup = BeautifulSoup(page.content)"
   ]
  },
  {
   "cell_type": "code",
   "execution_count": null,
   "id": "f12ce541",
   "metadata": {},
   "outputs": [],
   "source": [
    "Player_name = []\n",
    "name_formatting=\"\""
   ]
  },
  {
   "cell_type": "code",
   "execution_count": null,
   "id": "9a47a48e",
   "metadata": {},
   "outputs": [],
   "source": [
    "first_player = soup.find('div',class_='rankings-block__banner--name-large')\n",
    "Player_name.append(first_player.text)\n",
    "for i in soup.find_all('td',class_='table-body__cell rankings-table__name name'):\n",
    "    name_formatting = i\n",
    "    name_formatting = name_formatting.text\n",
    "    name_formatting = name_formatting.replace(\"\\n\",\"\")\n",
    "    Player_name.append(name_formatting)\n",
    "Player_name"
   ]
  },
  {
   "cell_type": "code",
   "execution_count": null,
   "id": "c591c60d",
   "metadata": {},
   "outputs": [],
   "source": [
    "Player_team = []\n",
    "first_team = soup.find('div',class_='rankings-block__banner--nationality')\n",
    "first_team = first_team.text.replace(\"\\n\",\"\")\n",
    "first_team\n",
    "Player_team.append(first_team)\n",
    "for i in soup.find_all('span',class_='table-body__logo-text'):\n",
    "    Player_team.append(i.text)\n",
    "Player_team"
   ]
  },
  {
   "cell_type": "code",
   "execution_count": null,
   "id": "25f1ba10",
   "metadata": {},
   "outputs": [],
   "source": [
    "Player_Rating = []"
   ]
  },
  {
   "cell_type": "code",
   "execution_count": null,
   "id": "b4c35f08",
   "metadata": {},
   "outputs": [],
   "source": [
    "first_rating = soup.find(\"div\",class_=\"rankings-block__banner--rating\")\n",
    "Player_Rating.append(first_rating.text)\n",
    "\n",
    "for i in soup.find_all(\"td\",class_=\"table-body__cell rating\"):\n",
    "    Player_Rating.append(i.text)\n",
    "Player_Rating"
   ]
  },
  {
   "cell_type": "code",
   "execution_count": null,
   "id": "a0d2d907",
   "metadata": {},
   "outputs": [],
   "source": [
    "# Scraping Womens data\n",
    "# https://www.icc-cricket.com/rankings/womens/player-rankings/odi/batting"
   ]
  },
  {
   "cell_type": "code",
   "execution_count": null,
   "id": "650cffb1",
   "metadata": {},
   "outputs": [],
   "source": [
    "page = requests.get(\"https://www.icc-cricket.com/rankings/womens/player-rankings/odi/batting\")\n",
    "page"
   ]
  },
  {
   "cell_type": "code",
   "execution_count": null,
   "id": "44969438",
   "metadata": {},
   "outputs": [],
   "source": [
    "soup = BeautifulSoup(page.content)"
   ]
  },
  {
   "cell_type": "code",
   "execution_count": null,
   "id": "beae1a3a",
   "metadata": {},
   "outputs": [],
   "source": [
    "first_player = soup.find('div',class_='rankings-block__banner--name-large')\n",
    "Player_name.append(first_player.text)\n",
    "for i in soup.find_all('td',class_='table-body__cell rankings-table__name name'):\n",
    "    name_formatting = i\n",
    "    name_formatting = name_formatting.text\n",
    "    name_formatting = name_formatting.replace(\"\\n\",\"\")\n",
    "    Player_name.append(name_formatting)\n",
    "Player_name"
   ]
  },
  {
   "cell_type": "code",
   "execution_count": null,
   "id": "5fba5a54",
   "metadata": {},
   "outputs": [],
   "source": [
    "first_team = soup.find('div',class_='rankings-block__banner--nationality')\n",
    "first_team = first_team.text.replace(\"\\n\",\"\")\n",
    "first_team\n",
    "Player_team.append(first_team)\n",
    "for i in soup.find_all('span',class_='table-body__logo-text'):\n",
    "    Player_team.append(i.text)\n",
    "Player_team"
   ]
  },
  {
   "cell_type": "code",
   "execution_count": null,
   "id": "f7e7d73e",
   "metadata": {},
   "outputs": [],
   "source": [
    "first_rating = soup.find(\"div\",class_=\"rankings-block__banner--rating\")\n",
    "Player_Rating.append(first_rating.text)\n",
    "\n",
    "for i in soup.find_all(\"td\",class_=\"table-body__cell rating\"):\n",
    "    Player_Rating.append(i.text)\n",
    "Player_Rating"
   ]
  },
  {
   "cell_type": "code",
   "execution_count": null,
   "id": "418888db",
   "metadata": {},
   "outputs": [],
   "source": [
    "df = pd.DataFrame({\"Player\":Player_name,\"Team\":Player_team,\"Rating\":Player_Rating})\n",
    "df"
   ]
  },
  {
   "cell_type": "code",
   "execution_count": null,
   "id": "cf5e7915",
   "metadata": {},
   "outputs": [],
   "source": [
    "df = df.sort_values(by='Rating', ascending=False)\n",
    "df"
   ]
  },
  {
   "cell_type": "code",
   "execution_count": null,
   "id": "79ba6b6e",
   "metadata": {},
   "outputs": [],
   "source": [
    "df = df.head(10)\n",
    "df"
   ]
  },
  {
   "cell_type": "markdown",
   "id": "925ceb56",
   "metadata": {},
   "source": [
    " "
   ]
  },
  {
   "cell_type": "code",
   "execution_count": null,
   "id": "a0eb37e5",
   "metadata": {},
   "outputs": [],
   "source": [
    "# For the Third part of the question 3 it is not mentioned if the top10 ODI bowlers should be male or female\n",
    "# So considering it can be both male or female\n",
    "# We will scrape both male and female > sort by order of ranking > save the top 10 "
   ]
  },
  {
   "cell_type": "code",
   "execution_count": null,
   "id": "5565a960",
   "metadata": {},
   "outputs": [],
   "source": [
    "# scraping mens data > https://www.icc-cricket.com/rankings/mens/player-rankings/odi/bowling"
   ]
  },
  {
   "cell_type": "code",
   "execution_count": null,
   "id": "d22939db",
   "metadata": {},
   "outputs": [],
   "source": [
    "page = requests.get(\"https://www.icc-cricket.com/rankings/mens/player-rankings/odi/bowling\")\n",
    "page"
   ]
  },
  {
   "cell_type": "code",
   "execution_count": null,
   "id": "d406bf42",
   "metadata": {},
   "outputs": [],
   "source": [
    "soup = BeautifulSoup(page.content)"
   ]
  },
  {
   "cell_type": "code",
   "execution_count": null,
   "id": "c8c55ef2",
   "metadata": {},
   "outputs": [],
   "source": [
    "soup"
   ]
  },
  {
   "cell_type": "code",
   "execution_count": null,
   "id": "7b0c3bff",
   "metadata": {},
   "outputs": [],
   "source": [
    "Player_name_bowlers=[]"
   ]
  },
  {
   "cell_type": "code",
   "execution_count": null,
   "id": "126a9b0b",
   "metadata": {},
   "outputs": [],
   "source": [
    "first_player = soup.find('div',class_='rankings-block__banner--name-large')\n",
    "Player_name_bowlers.append(first_player.text)\n",
    "for i in soup.find_all('td',class_='table-body__cell rankings-table__name name'):\n",
    "    name_formatting = i\n",
    "    name_formatting = name_formatting.text\n",
    "    name_formatting = name_formatting.replace(\"\\n\",\"\")\n",
    "    Player_name_bowlers.append(name_formatting)\n",
    "Player_name_bowlers"
   ]
  },
  {
   "cell_type": "code",
   "execution_count": null,
   "id": "e3f5fffd",
   "metadata": {},
   "outputs": [],
   "source": [
    "Player_team_bowlers=[]"
   ]
  },
  {
   "cell_type": "code",
   "execution_count": null,
   "id": "c0bccee1",
   "metadata": {},
   "outputs": [],
   "source": [
    "first_team = soup.find('div',class_='rankings-block__banner--nationality')\n",
    "first_team = first_team.text.replace(\"\\n\",\"\")\n",
    "first_team\n",
    "Player_team_bowlers.append(first_team)\n",
    "for i in soup.find_all('span',class_='table-body__logo-text'):\n",
    "    Player_team_bowlers.append(i.text)\n",
    "Player_team_bowlers"
   ]
  },
  {
   "cell_type": "code",
   "execution_count": null,
   "id": "90fd2f64",
   "metadata": {},
   "outputs": [],
   "source": [
    "Player_rating_bowlers=[]"
   ]
  },
  {
   "cell_type": "code",
   "execution_count": null,
   "id": "3aebef9d",
   "metadata": {},
   "outputs": [],
   "source": [
    "first_rating = soup.find(\"div\",class_=\"rankings-block__banner--rating\")\n",
    "Player_rating_bowlers.append(first_rating.text)\n",
    "\n",
    "for i in soup.find_all(\"td\",class_=\"table-body__cell rating\"):\n",
    "    Player_rating_bowlers.append(i.text)\n",
    "Player_rating_bowlers"
   ]
  },
  {
   "cell_type": "code",
   "execution_count": null,
   "id": "26305fca",
   "metadata": {},
   "outputs": [],
   "source": [
    "# Extracting womens data > https://www.icc-cricket.com/rankings/womens/player-rankings/odi/bowling"
   ]
  },
  {
   "cell_type": "code",
   "execution_count": null,
   "id": "4ffe54d7",
   "metadata": {},
   "outputs": [],
   "source": [
    "page = requests.get(\"https://www.icc-cricket.com/rankings/womens/player-rankings/odi/bowling\")\n",
    "page"
   ]
  },
  {
   "cell_type": "code",
   "execution_count": null,
   "id": "18be4906",
   "metadata": {},
   "outputs": [],
   "source": [
    "soup = BeautifulSoup(page.content)"
   ]
  },
  {
   "cell_type": "code",
   "execution_count": null,
   "id": "c614b3df",
   "metadata": {},
   "outputs": [],
   "source": [
    "first_player = soup.find('div',class_='rankings-block__banner--name-large')\n",
    "Player_name_bowlers.append(first_player.text)\n",
    "for i in soup.find_all('td',class_='table-body__cell rankings-table__name name'):\n",
    "    name_formatting = i\n",
    "    name_formatting = name_formatting.text\n",
    "    name_formatting = name_formatting.replace(\"\\n\",\"\")\n",
    "    Player_name_bowlers.append(name_formatting)\n",
    "Player_name_bowlers"
   ]
  },
  {
   "cell_type": "code",
   "execution_count": null,
   "id": "512a488e",
   "metadata": {},
   "outputs": [],
   "source": [
    "first_team = soup.find('div',class_='rankings-block__banner--nationality')\n",
    "first_team = first_team.text.replace(\"\\n\",\"\")\n",
    "first_team\n",
    "Player_team_bowlers.append(first_team)\n",
    "for i in soup.find_all('span',class_='table-body__logo-text'):\n",
    "    Player_team_bowlers.append(i.text)\n",
    "Player_team_bowlers"
   ]
  },
  {
   "cell_type": "code",
   "execution_count": null,
   "id": "e25d35b7",
   "metadata": {},
   "outputs": [],
   "source": [
    "first_rating = soup.find(\"div\",class_=\"rankings-block__banner--rating\")\n",
    "Player_rating_bowlers.append(first_rating.text)\n",
    "\n",
    "for i in soup.find_all(\"td\",class_=\"table-body__cell rating\"):\n",
    "    Player_rating_bowlers.append(i.text)\n",
    "Player_rating_bowlers"
   ]
  },
  {
   "cell_type": "code",
   "execution_count": null,
   "id": "ec485196",
   "metadata": {},
   "outputs": [],
   "source": [
    "df = pd.DataFrame({\"Bowler:\":Player_name_bowlers,\"Team\":Player_team_bowlers,\"Rating\":Player_rating_bowlers})\n",
    "df"
   ]
  },
  {
   "cell_type": "code",
   "execution_count": null,
   "id": "063cc26b",
   "metadata": {},
   "outputs": [],
   "source": [
    "df = df.sort_values(by='Rating', ascending=False)\n",
    "df"
   ]
  },
  {
   "cell_type": "code",
   "execution_count": null,
   "id": "c44ad0d3",
   "metadata": {},
   "outputs": [],
   "source": [
    "df = df.head(10)\n",
    "df"
   ]
  },
  {
   "cell_type": "markdown",
   "id": "869e70be",
   "metadata": {},
   "source": [
    " "
   ]
  },
  {
   "cell_type": "markdown",
   "id": "f8dbce02",
   "metadata": {},
   "source": [
    " "
   ]
  },
  {
   "cell_type": "markdown",
   "id": "0cb70253",
   "metadata": {},
   "source": [
    "###  Write a python program to scrape cricket rankings from icc-cricket.com. You have to scrape and make data frame\n",
    "\n",
    "a) Top 10 ODI teams in women’s cricket along with the records for matches, points and rating.\n",
    "\n",
    "b) Top 10 women’s ODI Batting players along with the records of their team and rating.\n",
    "\n",
    "c) Top 10 women’s ODI all-rounder along with the records of their team and rating.\n"
   ]
  },
  {
   "cell_type": "code",
   "execution_count": null,
   "id": "f171cb8e",
   "metadata": {},
   "outputs": [],
   "source": [
    "# https://www.icc-cricket.com/rankings/womens/team-rankings/odi"
   ]
  },
  {
   "cell_type": "code",
   "execution_count": null,
   "id": "3fb0a4d7",
   "metadata": {},
   "outputs": [],
   "source": [
    "# top 10 womens ODI Teams\n"
   ]
  },
  {
   "cell_type": "code",
   "execution_count": null,
   "id": "067c88fb",
   "metadata": {},
   "outputs": [],
   "source": [
    "page = requests.get('https://www.icc-cricket.com/rankings/womens/team-rankings/odi')\n",
    "page"
   ]
  },
  {
   "cell_type": "code",
   "execution_count": null,
   "id": "9e1be628",
   "metadata": {},
   "outputs": [],
   "source": [
    "soup = BeautifulSoup(page.content)"
   ]
  },
  {
   "cell_type": "code",
   "execution_count": null,
   "id": "175be45c",
   "metadata": {},
   "outputs": [],
   "source": [
    "# Span > u-hide-phablet\n",
    "Teams = []"
   ]
  },
  {
   "cell_type": "code",
   "execution_count": null,
   "id": "1d796c80",
   "metadata": {},
   "outputs": [],
   "source": [
    "for i in soup.find_all('span', class_=\"u-hide-phablet\"):\n",
    "    Teams.append(i.text)\n",
    "Teams"
   ]
  },
  {
   "cell_type": "code",
   "execution_count": null,
   "id": "175476e4",
   "metadata": {},
   "outputs": [],
   "source": [
    "Matches = []\n",
    "Matches_Points = []"
   ]
  },
  {
   "cell_type": "code",
   "execution_count": null,
   "id": "c011167d",
   "metadata": {},
   "outputs": [],
   "source": [
    "first_team_matches = soup.find('td', class_=\"rankings-block__banner--matches\")\n",
    "Matches.append(first_team_matches.text)\n",
    "\n",
    "for i in soup.find_all('td', class_=\"table-body__cell u-center-text\"):\n",
    "    Matches_Points.append(i.text)\n",
    "Matches_Points\n",
    "for i in range(0,len(Matches_Points),2):\n",
    "    Matches.append(Matches_Points[i])\n",
    "#     print(Matches_Points[i])\n",
    "Matches"
   ]
  },
  {
   "cell_type": "code",
   "execution_count": null,
   "id": "fa0c448b",
   "metadata": {},
   "outputs": [],
   "source": [
    "Points = []"
   ]
  },
  {
   "cell_type": "code",
   "execution_count": null,
   "id": "5a056234",
   "metadata": {},
   "outputs": [],
   "source": [
    "first_team_points = soup.find('td', class_=\"rankings-block__banner--points\")\n",
    "Points.append(first_team_points.text)\n",
    "\n",
    "for i in range(1,len(Matches_Points),2):\n",
    "    Points.append(Matches_Points[i])\n",
    "#     print(Matches_Points[i])\n",
    "Points"
   ]
  },
  {
   "cell_type": "code",
   "execution_count": null,
   "id": "4e81a020",
   "metadata": {},
   "outputs": [],
   "source": [
    "Rating = []"
   ]
  },
  {
   "cell_type": "code",
   "execution_count": null,
   "id": "69b3377c",
   "metadata": {},
   "outputs": [],
   "source": [
    "first_team_rating = soup.find('td', class_=\"rankings-block__banner--rating u-text-right\")\n",
    "first_team_rating_text = first_team_rating.text\n",
    "first_team_rating_text = first_team_rating_text.replace(\"\\n\",\"\")\n",
    "first_team_rating_text = first_team_rating_text.replace(\" \",\"\")\n",
    "first_team_rating_text\n",
    "Rating.append(first_team_rating_text)\n",
    "\n",
    "for i in soup.find_all('td', class_=\"table-body__cell u-text-right rating\"):\n",
    "    Rating.append(i.text)\n",
    "Rating"
   ]
  },
  {
   "cell_type": "code",
   "execution_count": null,
   "id": "e1c12675",
   "metadata": {},
   "outputs": [],
   "source": [
    "df = pd.DataFrame({\"Team_Name\":Teams,\"Matches\":Matches,\"Points\":Points,\"Ratings\":Rating})\n",
    "df"
   ]
  },
  {
   "cell_type": "code",
   "execution_count": null,
   "id": "147ff364",
   "metadata": {},
   "outputs": [],
   "source": [
    "df = df.head(10)\n",
    "df"
   ]
  },
  {
   "cell_type": "code",
   "execution_count": null,
   "id": "f5d14a86",
   "metadata": {},
   "outputs": [],
   "source": [
    "# Top 10 women’s ODI Batting players along with the records of their team and rating.\n",
    "# https://www.icc-cricket.com/rankings/womens/player-rankings/odi/batting"
   ]
  },
  {
   "cell_type": "code",
   "execution_count": null,
   "id": "e288cfec",
   "metadata": {},
   "outputs": [],
   "source": [
    "page = requests.get(\"https://www.icc-cricket.com/rankings/womens/player-rankings/odi/batting\")\n",
    "page"
   ]
  },
  {
   "cell_type": "code",
   "execution_count": null,
   "id": "3a9c30aa",
   "metadata": {},
   "outputs": [],
   "source": [
    "soup = BeautifulSoup(page.content)"
   ]
  },
  {
   "cell_type": "code",
   "execution_count": null,
   "id": "d0e7bea8",
   "metadata": {},
   "outputs": [],
   "source": [
    "Player_name = []\n",
    "first_player = soup.find('div',class_='rankings-block__banner--name-large')\n",
    "Player_name.append(first_player.text)\n",
    "for i in soup.find_all('td',class_='table-body__cell rankings-table__name name'):\n",
    "    name_formatting = i\n",
    "    name_formatting = name_formatting.text\n",
    "    name_formatting = name_formatting.replace(\"\\n\",\"\")\n",
    "    Player_name.append(name_formatting)\n",
    "Player_name"
   ]
  },
  {
   "cell_type": "code",
   "execution_count": null,
   "id": "f5675a9c",
   "metadata": {},
   "outputs": [],
   "source": [
    "Player_team = []\n",
    "first_team = soup.find('div',class_='rankings-block__banner--nationality')\n",
    "first_team = first_team.text.replace(\"\\n\",\"\")\n",
    "first_team\n",
    "Player_team.append(first_team)\n",
    "for i in soup.find_all('span',class_='table-body__logo-text'):\n",
    "    Player_team.append(i.text)\n",
    "Player_team"
   ]
  },
  {
   "cell_type": "code",
   "execution_count": null,
   "id": "23080a0d",
   "metadata": {},
   "outputs": [],
   "source": [
    "Player_Rating = []\n",
    "first_rating = soup.find(\"div\",class_=\"rankings-block__banner--rating\")\n",
    "Player_Rating.append(first_rating.text)\n",
    "\n",
    "for i in soup.find_all(\"td\",class_=\"table-body__cell rating\"):\n",
    "    Player_Rating.append(i.text)\n",
    "Player_Rating"
   ]
  },
  {
   "cell_type": "code",
   "execution_count": null,
   "id": "e3308b5f",
   "metadata": {},
   "outputs": [],
   "source": [
    "df = pd.DataFrame({\"Player\":Player_name,\"Team\":Player_team,\"Rating\":Player_Rating})\n",
    "df = df.head(10)\n",
    "df"
   ]
  },
  {
   "cell_type": "code",
   "execution_count": null,
   "id": "c3bb688c",
   "metadata": {},
   "outputs": [],
   "source": [
    "# Top 10 women’s ODI all-rounder along with the records of their team and rating.\n",
    "# https://www.icc-cricket.com/rankings/womens/player-rankings/odi/all-rounder"
   ]
  },
  {
   "cell_type": "code",
   "execution_count": null,
   "id": "133f9c8d",
   "metadata": {},
   "outputs": [],
   "source": [
    "page = requests.get(\"https://www.icc-cricket.com/rankings/womens/player-rankings/odi/all-rounder\")\n",
    "page"
   ]
  },
  {
   "cell_type": "code",
   "execution_count": null,
   "id": "65c7033a",
   "metadata": {},
   "outputs": [],
   "source": [
    "soup = BeautifulSoup(page.content)"
   ]
  },
  {
   "cell_type": "code",
   "execution_count": null,
   "id": "3f6c1827",
   "metadata": {},
   "outputs": [],
   "source": [
    "Player_name = []\n",
    "first_player = soup.find('div',class_='rankings-block__banner--name-large')\n",
    "Player_name.append(first_player.text)\n",
    "for i in soup.find_all('td',class_='table-body__cell rankings-table__name name'):\n",
    "    name_formatting = i\n",
    "    name_formatting = name_formatting.text\n",
    "    name_formatting = name_formatting.replace(\"\\n\",\"\")\n",
    "    Player_name.append(name_formatting)\n",
    "Player_name"
   ]
  },
  {
   "cell_type": "code",
   "execution_count": null,
   "id": "903bb97a",
   "metadata": {},
   "outputs": [],
   "source": [
    "Player_team = []\n",
    "first_team = soup.find('div',class_='rankings-block__banner--nationality')\n",
    "first_team = first_team.text.replace(\"\\n\",\"\")\n",
    "first_team\n",
    "Player_team.append(first_team)\n",
    "for i in soup.find_all('span',class_='table-body__logo-text'):\n",
    "    Player_team.append(i.text)\n",
    "Player_team"
   ]
  },
  {
   "cell_type": "code",
   "execution_count": null,
   "id": "4b168a6c",
   "metadata": {},
   "outputs": [],
   "source": [
    "Player_Rating = []\n",
    "first_rating = soup.find(\"div\",class_=\"rankings-block__banner--rating\")\n",
    "Player_Rating.append(first_rating.text)\n",
    "\n",
    "for i in soup.find_all(\"td\",class_=\"table-body__cell rating\"):\n",
    "    Player_Rating.append(i.text)\n",
    "Player_Rating"
   ]
  },
  {
   "cell_type": "code",
   "execution_count": null,
   "id": "4cdb23f9",
   "metadata": {},
   "outputs": [],
   "source": [
    "df = pd.DataFrame({\"Player\":Player_name,\"Team\":Player_team,\"Rating\":Player_Rating})\n",
    "df = df.head(10)\n",
    "df"
   ]
  },
  {
   "cell_type": "markdown",
   "id": "aef747f2",
   "metadata": {},
   "source": [
    " \n"
   ]
  },
  {
   "cell_type": "markdown",
   "id": "ae44d203",
   "metadata": {},
   "source": [
    " "
   ]
  },
  {
   "cell_type": "markdown",
   "id": "e7a8092d",
   "metadata": {},
   "source": [
    "### 5) Write a python program to scrape mentioned news details from https://www.cnbc.com/world/?region=world and make data frame\n",
    "\n",
    "i) Headline\n",
    "\n",
    "ii) Time\n",
    "\n",
    "iii) News Link"
   ]
  },
  {
   "cell_type": "code",
   "execution_count": null,
   "id": "572419c2",
   "metadata": {},
   "outputs": [],
   "source": [
    "# https://www.cnbc.com/world/?region=world"
   ]
  },
  {
   "cell_type": "code",
   "execution_count": null,
   "id": "4d177462",
   "metadata": {},
   "outputs": [],
   "source": [
    "page = requests.get(\"https://www.cnbc.com/world/?region=world\")\n",
    "page"
   ]
  },
  {
   "cell_type": "code",
   "execution_count": null,
   "id": "644fe87c",
   "metadata": {},
   "outputs": [],
   "source": [
    "soup = BeautifulSoup(page.content)"
   ]
  },
  {
   "cell_type": "code",
   "execution_count": null,
   "id": "aa769068",
   "metadata": {},
   "outputs": [],
   "source": [
    "Headline = []\n",
    "Time = []\n",
    "Link = []"
   ]
  },
  {
   "cell_type": "code",
   "execution_count": null,
   "id": "2d957c4f",
   "metadata": {},
   "outputs": [],
   "source": [
    "for i in soup.find_all(\"a\", class_=\"LatestNews-headline\"):\n",
    "    Headline.append(i.text)\n",
    "Headline"
   ]
  },
  {
   "cell_type": "code",
   "execution_count": null,
   "id": "54be4622",
   "metadata": {},
   "outputs": [],
   "source": [
    "for i in soup.find_all(\"time\", class_=\"LatestNews-timestamp\"):\n",
    "    Time.append(i.text)\n",
    "Time"
   ]
  },
  {
   "cell_type": "code",
   "execution_count": null,
   "id": "c6092aa2",
   "metadata": {},
   "outputs": [],
   "source": [
    "for i in soup.find_all(\"a\", class_=\"LatestNews-headline\"):\n",
    "    Link.append(i['href'])\n",
    "Link"
   ]
  },
  {
   "cell_type": "code",
   "execution_count": null,
   "id": "9af88908",
   "metadata": {},
   "outputs": [],
   "source": [
    "df = pd.DataFrame({\"Headline\":Headline,\"Time\":Time,\"Link\":Link})\n",
    "df"
   ]
  },
  {
   "cell_type": "markdown",
   "id": "3f96628e",
   "metadata": {},
   "source": [
    " "
   ]
  },
  {
   "cell_type": "markdown",
   "id": "f433af9d",
   "metadata": {},
   "source": [
    " "
   ]
  },
  {
   "cell_type": "markdown",
   "id": "8defcc85",
   "metadata": {},
   "source": [
    "### Question6. Write a python program to scrape the details of most downloaded articles from AI in last 90 days.\n",
    "https://www.journals.elsevier.com/artificial-intelligence/most-downloaded-articles \n",
    "### Scrape below mentioned details and make data frame\n",
    "\n",
    "i) Paper Title\n",
    "ii) Authors\n",
    "iii) Published Date\n",
    "iv) Paper URL"
   ]
  },
  {
   "cell_type": "code",
   "execution_count": null,
   "id": "a4001154",
   "metadata": {},
   "outputs": [],
   "source": [
    "# https://www.journals.elsevier.com/artificial-intelligence/most-downloaded-articles"
   ]
  },
  {
   "cell_type": "code",
   "execution_count": null,
   "id": "a10c9af1",
   "metadata": {},
   "outputs": [],
   "source": [
    "page = requests.get(\"https://www.journals.elsevier.com/artificial-intelligence/most-downloaded-articles\")\n",
    "page"
   ]
  },
  {
   "cell_type": "code",
   "execution_count": null,
   "id": "f8bd0922",
   "metadata": {},
   "outputs": [],
   "source": [
    "soup = BeautifulSoup(page.content)"
   ]
  },
  {
   "cell_type": "code",
   "execution_count": null,
   "id": "5854b6f3",
   "metadata": {},
   "outputs": [],
   "source": [
    "Title = []\n",
    "Authors = []\n",
    "Date = []\n",
    "URL = []"
   ]
  },
  {
   "cell_type": "code",
   "execution_count": null,
   "id": "22c6cebd",
   "metadata": {},
   "outputs": [],
   "source": [
    "for i in soup.find_all(\"h2\",class_=\"sc-1qrq3sd-1 gRGSUS sc-1nmom32-0 sc-1nmom32-1 btcbYu goSKRg\"):\n",
    "    Title.append(i.text)"
   ]
  },
  {
   "cell_type": "code",
   "execution_count": null,
   "id": "d97e5ee9",
   "metadata": {},
   "outputs": [],
   "source": [
    "for i in soup.find_all(\"span\",class_=\"sc-1w3fpd7-0 dnCnAO\"):\n",
    "    Authors.append(i.text)\n",
    "Authors"
   ]
  },
  {
   "cell_type": "code",
   "execution_count": null,
   "id": "1288d157",
   "metadata": {},
   "outputs": [],
   "source": [
    "for i in soup.find_all(\"span\",class_=\"sc-1thf9ly-2 dvggWt\"):\n",
    "    Date.append(i.text)\n",
    "Date"
   ]
  },
  {
   "cell_type": "code",
   "execution_count": null,
   "id": "4c7978b2",
   "metadata": {},
   "outputs": [],
   "source": [
    "for i in soup.find_all(\"a\",class_=\"sc-5smygv-0 fIXTHm\"):\n",
    "    URL.append(i['href'])\n",
    "URL"
   ]
  },
  {
   "cell_type": "code",
   "execution_count": null,
   "id": "5acdd9c7",
   "metadata": {},
   "outputs": [],
   "source": [
    "df = pd.DataFrame({\"Paper Title\":Title,\"Authors\":Authors,\"Published Date\":Date,\"Paper URL\":URL})\n",
    "df"
   ]
  },
  {
   "cell_type": "markdown",
   "id": "d4c43093",
   "metadata": {},
   "source": [
    " \n"
   ]
  },
  {
   "cell_type": "markdown",
   "id": "ca2eea14",
   "metadata": {},
   "source": [
    " "
   ]
  },
  {
   "cell_type": "markdown",
   "id": "32505d3b",
   "metadata": {},
   "source": [
    "### 7) Write a python program to scrape mentioned details from dineout.co.inand make data frame\n",
    "i) Restaurant name\n",
    "ii) Cuisine\n",
    "iii) Location\n",
    "iv) Ratings\n",
    "v) Image URL"
   ]
  },
  {
   "cell_type": "code",
   "execution_count": null,
   "id": "fe1f19c6",
   "metadata": {},
   "outputs": [],
   "source": [
    "# https://www.dineout.co.in/delhi-restaurants/buffet-special"
   ]
  },
  {
   "cell_type": "code",
   "execution_count": null,
   "id": "b33dc433",
   "metadata": {},
   "outputs": [],
   "source": [
    "page = requests.get(\"https://www.dineout.co.in/delhi-restaurants/buffet-special\")\n",
    "page"
   ]
  },
  {
   "cell_type": "code",
   "execution_count": null,
   "id": "b06de598",
   "metadata": {},
   "outputs": [],
   "source": [
    "soup = BeautifulSoup(page.content)"
   ]
  },
  {
   "cell_type": "code",
   "execution_count": null,
   "id": "de323fbe",
   "metadata": {},
   "outputs": [],
   "source": [
    "Name = []\n",
    "Cuisine = []\n",
    "Location = []\n",
    "Ratings = []\n",
    "Image = []"
   ]
  },
  {
   "cell_type": "code",
   "execution_count": null,
   "id": "6d89ff37",
   "metadata": {},
   "outputs": [],
   "source": [
    "for i in soup.find_all(\"a\", class_=\"restnt-name ellipsis\"):\n",
    "    Name.append(i.text)\n",
    "Name"
   ]
  },
  {
   "cell_type": "code",
   "execution_count": null,
   "id": "1281d0ea",
   "metadata": {},
   "outputs": [],
   "source": [
    "import re\n",
    "pattern = re.compile(r'₹.*\\|\\s')"
   ]
  },
  {
   "cell_type": "code",
   "execution_count": null,
   "id": "fd69cd12",
   "metadata": {},
   "outputs": [],
   "source": [
    "for i in soup.find_all(\"span\", class_=\"double-line-ellipsis\"):\n",
    "    Cuisine.append(re.sub(pattern,'',i.text))\n",
    "Cuisine\n",
    "#     print(re.sub(pattern,'',i.text))"
   ]
  },
  {
   "cell_type": "code",
   "execution_count": null,
   "id": "a6678111",
   "metadata": {},
   "outputs": [],
   "source": [
    "for i in soup.find_all(\"div\", class_=\"restnt-loc ellipsis\"):\n",
    "#     print(i.text)\n",
    "    Location.append(i.text)\n",
    "Location"
   ]
  },
  {
   "cell_type": "code",
   "execution_count": null,
   "id": "11eae773",
   "metadata": {},
   "outputs": [],
   "source": [
    "for i in soup.find_all(\"div\", class_=\"restnt-rating rating-4\"):\n",
    "#     print(i.text)\n",
    "    Ratings.append(i.text)\n",
    "Ratings"
   ]
  },
  {
   "cell_type": "code",
   "execution_count": null,
   "id": "d9e26b09",
   "metadata": {},
   "outputs": [],
   "source": [
    "for i in soup.find_all(\"img\", class_=\"no-img\"):\n",
    "#     print(i['data-src'])\n",
    "    Image.append(i['data-src'])\n",
    "Image"
   ]
  },
  {
   "cell_type": "code",
   "execution_count": 352,
   "id": "1ea04b4f",
   "metadata": {},
   "outputs": [
    {
     "data": {
      "text/html": [
       "<div>\n",
       "<style scoped>\n",
       "    .dataframe tbody tr th:only-of-type {\n",
       "        vertical-align: middle;\n",
       "    }\n",
       "\n",
       "    .dataframe tbody tr th {\n",
       "        vertical-align: top;\n",
       "    }\n",
       "\n",
       "    .dataframe thead th {\n",
       "        text-align: right;\n",
       "    }\n",
       "</style>\n",
       "<table border=\"1\" class=\"dataframe\">\n",
       "  <thead>\n",
       "    <tr style=\"text-align: right;\">\n",
       "      <th></th>\n",
       "      <th>Restaurant Name</th>\n",
       "      <th>Cuisine</th>\n",
       "      <th>Location</th>\n",
       "      <th>Ratings</th>\n",
       "      <th>ImageURL</th>\n",
       "    </tr>\n",
       "  </thead>\n",
       "  <tbody>\n",
       "    <tr>\n",
       "      <th>0</th>\n",
       "      <td>Castle Barbeque</td>\n",
       "      <td>Chinese, North Indian</td>\n",
       "      <td>Connaught Place, Central Delhi</td>\n",
       "      <td>4</td>\n",
       "      <td>https://im1.dineout.co.in/images/uploads/resta...</td>\n",
       "    </tr>\n",
       "    <tr>\n",
       "      <th>1</th>\n",
       "      <td>Cafe Knosh</td>\n",
       "      <td>Italian, Continental</td>\n",
       "      <td>The Leela Ambience Convention Hotel,Shahdara, ...</td>\n",
       "      <td>4.3</td>\n",
       "      <td>https://im1.dineout.co.in/images/uploads/resta...</td>\n",
       "    </tr>\n",
       "    <tr>\n",
       "      <th>2</th>\n",
       "      <td>Castle's Barbeque</td>\n",
       "      <td>Chinese, North Indian</td>\n",
       "      <td>Pacific Mall,Tagore Garden, West Delhi</td>\n",
       "      <td>3.9</td>\n",
       "      <td>https://im1.dineout.co.in/images/uploads/resta...</td>\n",
       "    </tr>\n",
       "    <tr>\n",
       "      <th>3</th>\n",
       "      <td>India Grill</td>\n",
       "      <td>North Indian, Italian</td>\n",
       "      <td>Hilton Garden Inn,Saket, South Delhi</td>\n",
       "      <td>3.9</td>\n",
       "      <td>https://im1.dineout.co.in/images/uploads/resta...</td>\n",
       "    </tr>\n",
       "    <tr>\n",
       "      <th>4</th>\n",
       "      <td>The Barbeque Company</td>\n",
       "      <td>North Indian, Chinese</td>\n",
       "      <td>Gardens Galleria,Sector 38A, Noida</td>\n",
       "      <td>3.9</td>\n",
       "      <td>https://im1.dineout.co.in/images/uploads/resta...</td>\n",
       "    </tr>\n",
       "    <tr>\n",
       "      <th>5</th>\n",
       "      <td>Delhi Barbeque</td>\n",
       "      <td>North Indian</td>\n",
       "      <td>Taurus Sarovar Portico,Mahipalpur, South Delhi</td>\n",
       "      <td>3.7</td>\n",
       "      <td>https://im1.dineout.co.in/images/uploads/resta...</td>\n",
       "    </tr>\n",
       "    <tr>\n",
       "      <th>6</th>\n",
       "      <td>The Monarch - Bar Be Que Village</td>\n",
       "      <td>North Indian</td>\n",
       "      <td>Indirapuram Habitat Centre,Indirapuram, Ghaziabad</td>\n",
       "      <td>3.8</td>\n",
       "      <td>https://im1.dineout.co.in/images/uploads/resta...</td>\n",
       "    </tr>\n",
       "    <tr>\n",
       "      <th>7</th>\n",
       "      <td>The Barbeque Times</td>\n",
       "      <td>North Indian, Continental, Chinese, South Indian</td>\n",
       "      <td>M2K Corporate Park,Sector 51, Gurgaon</td>\n",
       "      <td>4.1</td>\n",
       "      <td>https://im1.dineout.co.in/images/uploads/resta...</td>\n",
       "    </tr>\n",
       "    <tr>\n",
       "      <th>8</th>\n",
       "      <td>Indian Grill Room</td>\n",
       "      <td>North Indian, Mughlai</td>\n",
       "      <td>Suncity Business Tower,Golf Course Road, Gurgaon</td>\n",
       "      <td>4.3</td>\n",
       "      <td>https://im1.dineout.co.in/images/uploads/resta...</td>\n",
       "    </tr>\n",
       "  </tbody>\n",
       "</table>\n",
       "</div>"
      ],
      "text/plain": [
       "                    Restaurant Name  \\\n",
       "0                   Castle Barbeque   \n",
       "1                        Cafe Knosh   \n",
       "2                 Castle's Barbeque   \n",
       "3                       India Grill   \n",
       "4              The Barbeque Company   \n",
       "5                    Delhi Barbeque   \n",
       "6  The Monarch - Bar Be Que Village   \n",
       "7                The Barbeque Times   \n",
       "8                 Indian Grill Room   \n",
       "\n",
       "                                            Cuisine  \\\n",
       "0                             Chinese, North Indian   \n",
       "1                              Italian, Continental   \n",
       "2                             Chinese, North Indian   \n",
       "3                             North Indian, Italian   \n",
       "4                             North Indian, Chinese   \n",
       "5                                      North Indian   \n",
       "6                                      North Indian   \n",
       "7  North Indian, Continental, Chinese, South Indian   \n",
       "8                             North Indian, Mughlai   \n",
       "\n",
       "                                            Location Ratings  \\\n",
       "0                     Connaught Place, Central Delhi       4   \n",
       "1  The Leela Ambience Convention Hotel,Shahdara, ...     4.3   \n",
       "2             Pacific Mall,Tagore Garden, West Delhi     3.9   \n",
       "3               Hilton Garden Inn,Saket, South Delhi     3.9   \n",
       "4                 Gardens Galleria,Sector 38A, Noida     3.9   \n",
       "5     Taurus Sarovar Portico,Mahipalpur, South Delhi     3.7   \n",
       "6  Indirapuram Habitat Centre,Indirapuram, Ghaziabad     3.8   \n",
       "7              M2K Corporate Park,Sector 51, Gurgaon     4.1   \n",
       "8   Suncity Business Tower,Golf Course Road, Gurgaon     4.3   \n",
       "\n",
       "                                            ImageURL  \n",
       "0  https://im1.dineout.co.in/images/uploads/resta...  \n",
       "1  https://im1.dineout.co.in/images/uploads/resta...  \n",
       "2  https://im1.dineout.co.in/images/uploads/resta...  \n",
       "3  https://im1.dineout.co.in/images/uploads/resta...  \n",
       "4  https://im1.dineout.co.in/images/uploads/resta...  \n",
       "5  https://im1.dineout.co.in/images/uploads/resta...  \n",
       "6  https://im1.dineout.co.in/images/uploads/resta...  \n",
       "7  https://im1.dineout.co.in/images/uploads/resta...  \n",
       "8  https://im1.dineout.co.in/images/uploads/resta...  "
      ]
     },
     "execution_count": 352,
     "metadata": {},
     "output_type": "execute_result"
    }
   ],
   "source": [
    "df = pd.DataFrame({\"Restaurant Name\":Name,\"Cuisine\":Cuisine,\"Location\":Location,\"Ratings\":Ratings,\"ImageURL\":Image})\n",
    "df"
   ]
  }
 ],
 "metadata": {
  "kernelspec": {
   "display_name": "Python 3 (ipykernel)",
   "language": "python",
   "name": "python3"
  },
  "language_info": {
   "codemirror_mode": {
    "name": "ipython",
    "version": 3
   },
   "file_extension": ".py",
   "mimetype": "text/x-python",
   "name": "python",
   "nbconvert_exporter": "python",
   "pygments_lexer": "ipython3",
   "version": "3.10.9"
  }
 },
 "nbformat": 4,
 "nbformat_minor": 5
}
